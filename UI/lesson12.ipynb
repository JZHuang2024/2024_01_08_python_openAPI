{
 "cells": [
  {
   "cell_type": "code",
   "execution_count": 3,
   "metadata": {},
   "outputs": [
    {
     "name": "stdout",
     "output_type": "stream",
     "text": [
      "下載成功\n",
      "[{'date': '2024-1-26 13:9:9', 'address': 'chicken_KFC', 'temperature': 27.98069, 'light': 1168.0}, {'date': '2024-1-26 13:10:8', 'address': 'chicken_KFC', 'temperature': 27.98069, 'light': 1184.0}, {'date': '2024-1-26 13:18:13', 'address': 'chicken_KFC', 'temperature': 28.44883, 'light': 1184.0}, {'date': '2024-1-26 13:31:56', 'address': 'chicken_KFC', 'temperature': 27.51254, 'light': 240.0}]\n"
     ]
    }
   ],
   "source": [
    "#2024_01_26_AM1030\n",
    "import requests\n",
    "\n",
    "url = 'https://openapi-test-ukni.onrender.com/pico_w/?count=5'\n",
    "\n",
    "r = requests.get(url=url)\n",
    "\n",
    "if r.status_code == 200:\n",
    "    print(\"下載成功\")\n",
    "    data = r.json()\n",
    "\n",
    "print(data)"
   ]
  },
  {
   "cell_type": "code",
   "execution_count": 4,
   "metadata": {},
   "outputs": [
    {
     "data": {
      "text/html": [
       "<div>\n",
       "<style scoped>\n",
       "    .dataframe tbody tr th:only-of-type {\n",
       "        vertical-align: middle;\n",
       "    }\n",
       "\n",
       "    .dataframe tbody tr th {\n",
       "        vertical-align: top;\n",
       "    }\n",
       "\n",
       "    .dataframe thead th {\n",
       "        text-align: right;\n",
       "    }\n",
       "</style>\n",
       "<table border=\"1\" class=\"dataframe\">\n",
       "  <thead>\n",
       "    <tr style=\"text-align: right;\">\n",
       "      <th></th>\n",
       "      <th>date</th>\n",
       "      <th>address</th>\n",
       "      <th>temperature</th>\n",
       "      <th>light</th>\n",
       "    </tr>\n",
       "  </thead>\n",
       "  <tbody>\n",
       "    <tr>\n",
       "      <th>0</th>\n",
       "      <td>2024-1-26 13:9:9</td>\n",
       "      <td>chicken_KFC</td>\n",
       "      <td>27.98069</td>\n",
       "      <td>1168.0</td>\n",
       "    </tr>\n",
       "    <tr>\n",
       "      <th>1</th>\n",
       "      <td>2024-1-26 13:10:8</td>\n",
       "      <td>chicken_KFC</td>\n",
       "      <td>27.98069</td>\n",
       "      <td>1184.0</td>\n",
       "    </tr>\n",
       "    <tr>\n",
       "      <th>2</th>\n",
       "      <td>2024-1-26 13:18:13</td>\n",
       "      <td>chicken_KFC</td>\n",
       "      <td>28.44883</td>\n",
       "      <td>1184.0</td>\n",
       "    </tr>\n",
       "    <tr>\n",
       "      <th>3</th>\n",
       "      <td>2024-1-26 13:31:56</td>\n",
       "      <td>chicken_KFC</td>\n",
       "      <td>27.51254</td>\n",
       "      <td>240.0</td>\n",
       "    </tr>\n",
       "  </tbody>\n",
       "</table>\n",
       "</div>"
      ],
      "text/plain": [
       "                 date      address  temperature   light\n",
       "0    2024-1-26 13:9:9  chicken_KFC     27.98069  1168.0\n",
       "1   2024-1-26 13:10:8  chicken_KFC     27.98069  1184.0\n",
       "2  2024-1-26 13:18:13  chicken_KFC     28.44883  1184.0\n",
       "3  2024-1-26 13:31:56  chicken_KFC     27.51254   240.0"
      ]
     },
     "execution_count": 4,
     "metadata": {},
     "output_type": "execute_result"
    }
   ],
   "source": [
    "#2024_01_26_AM1100\n",
    "import pandas as pd\n",
    "\n",
    "pd.DataFrame(data)"
   ]
  }
 ],
 "metadata": {
  "kernelspec": {
   "display_name": ".venv",
   "language": "python",
   "name": "python3"
  },
  "language_info": {
   "codemirror_mode": {
    "name": "ipython",
    "version": 3
   },
   "file_extension": ".py",
   "mimetype": "text/x-python",
   "name": "python",
   "nbconvert_exporter": "python",
   "pygments_lexer": "ipython3",
   "version": "3.10.8"
  }
 },
 "nbformat": 4,
 "nbformat_minor": 2
}

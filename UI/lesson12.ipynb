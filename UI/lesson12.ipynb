{
 "cells": [
  {
   "cell_type": "code",
   "execution_count": 5,
   "metadata": {},
   "outputs": [
    {
     "name": "stdout",
     "output_type": "stream",
     "text": [
      "下載成功\n",
      "[{'date': '2024-1-25 16:45:11', 'address': 'chicken_KFC', 'temperature': 28.91698, 'light': 56349.0}, {'date': '2024-1-25 16:45:18', 'address': 'chicken_KFC', 'temperature': 29.85327, 'light': 56653.0}, {'date': '2024-1-25 16:45:22', 'address': 'chicken_KFC', 'temperature': 29.38512, 'light': 56621.0}, {'date': '2024-1-26 9:26:44', 'address': 'chicken_KFC', 'temperature': 23.76739, 'light': 256.0}, {'date': '2024-1-26 9:52:3', 'address': 'chicken_KFC', 'temperature': 25.63997, 'light': 208.0}]\n"
     ]
    }
   ],
   "source": [
    "#2024_01_26_AM1030\n",
    "import requests\n",
    "\n",
    "url = 'https://openapi-test-ukni.onrender.com/pico_w/?count=5'\n",
    "\n",
    "r = requests.get(url=url)\n",
    "\n",
    "if r.status_code == 200:\n",
    "    print(\"下載成功\")\n",
    "    data = r.json()\n",
    "\n",
    "print(data)"
   ]
  },
  {
   "cell_type": "code",
   "execution_count": 6,
   "metadata": {},
   "outputs": [
    {
     "data": {
      "text/html": [
       "<div>\n",
       "<style scoped>\n",
       "    .dataframe tbody tr th:only-of-type {\n",
       "        vertical-align: middle;\n",
       "    }\n",
       "\n",
       "    .dataframe tbody tr th {\n",
       "        vertical-align: top;\n",
       "    }\n",
       "\n",
       "    .dataframe thead th {\n",
       "        text-align: right;\n",
       "    }\n",
       "</style>\n",
       "<table border=\"1\" class=\"dataframe\">\n",
       "  <thead>\n",
       "    <tr style=\"text-align: right;\">\n",
       "      <th></th>\n",
       "      <th>date</th>\n",
       "      <th>address</th>\n",
       "      <th>temperature</th>\n",
       "      <th>light</th>\n",
       "    </tr>\n",
       "  </thead>\n",
       "  <tbody>\n",
       "    <tr>\n",
       "      <th>0</th>\n",
       "      <td>2024-1-25 16:45:11</td>\n",
       "      <td>chicken_KFC</td>\n",
       "      <td>28.91698</td>\n",
       "      <td>56349.0</td>\n",
       "    </tr>\n",
       "    <tr>\n",
       "      <th>1</th>\n",
       "      <td>2024-1-25 16:45:18</td>\n",
       "      <td>chicken_KFC</td>\n",
       "      <td>29.85327</td>\n",
       "      <td>56653.0</td>\n",
       "    </tr>\n",
       "    <tr>\n",
       "      <th>2</th>\n",
       "      <td>2024-1-25 16:45:22</td>\n",
       "      <td>chicken_KFC</td>\n",
       "      <td>29.38512</td>\n",
       "      <td>56621.0</td>\n",
       "    </tr>\n",
       "    <tr>\n",
       "      <th>3</th>\n",
       "      <td>2024-1-26 9:26:44</td>\n",
       "      <td>chicken_KFC</td>\n",
       "      <td>23.76739</td>\n",
       "      <td>256.0</td>\n",
       "    </tr>\n",
       "    <tr>\n",
       "      <th>4</th>\n",
       "      <td>2024-1-26 9:52:3</td>\n",
       "      <td>chicken_KFC</td>\n",
       "      <td>25.63997</td>\n",
       "      <td>208.0</td>\n",
       "    </tr>\n",
       "  </tbody>\n",
       "</table>\n",
       "</div>"
      ],
      "text/plain": [
       "                 date      address  temperature    light\n",
       "0  2024-1-25 16:45:11  chicken_KFC     28.91698  56349.0\n",
       "1  2024-1-25 16:45:18  chicken_KFC     29.85327  56653.0\n",
       "2  2024-1-25 16:45:22  chicken_KFC     29.38512  56621.0\n",
       "3   2024-1-26 9:26:44  chicken_KFC     23.76739    256.0\n",
       "4    2024-1-26 9:52:3  chicken_KFC     25.63997    208.0"
      ]
     },
     "execution_count": 6,
     "metadata": {},
     "output_type": "execute_result"
    }
   ],
   "source": [
    "#2024_01_26_AM1100\n",
    "import pandas as pd\n",
    "\n",
    "pd.DataFrame(data)"
   ]
  }
 ],
 "metadata": {
  "kernelspec": {
   "display_name": ".venv",
   "language": "python",
   "name": "python3"
  },
  "language_info": {
   "codemirror_mode": {
    "name": "ipython",
    "version": 3
   },
   "file_extension": ".py",
   "mimetype": "text/x-python",
   "name": "python",
   "nbconvert_exporter": "python",
   "pygments_lexer": "ipython3",
   "version": "3.10.8"
  }
 },
 "nbformat": 4,
 "nbformat_minor": 2
}

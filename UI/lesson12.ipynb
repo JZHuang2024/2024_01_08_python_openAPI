{
 "cells": [
  {
   "cell_type": "code",
   "execution_count": 2,
   "metadata": {},
   "outputs": [
    {
     "name": "stdout",
     "output_type": "stream",
     "text": [
      "下載成功\n",
      "[{'date': '2024-1-26 14:50:57', 'address': 'chicken_KFC', 'temperature': 27.0444, 'light': 320.0}, {'date': '2024-1-26 14:51:15', 'address': 'chicken_KFC', 'temperature': 27.0444, 'light': 288.0}, {'date': '2024-1-26 14:51:26', 'address': 'chicken_KFC', 'temperature': 27.0444, 'light': 288.0}, {'date': '2024-1-26 15:11:17', 'address': 'chicken_KFC', 'temperature': 27.51254, 'light': 272.0}, {'date': '2024-1-26 15:12:12', 'address': 'chicken_KFC', 'temperature': 28.44883, 'light': 272.0}]\n"
     ]
    }
   ],
   "source": [
    "#2024_01_26_AM1030\n",
    "import requests\n",
    "\n",
    "url = 'https://openapi-test-ukni.onrender.com/pico_w/?count=5'\n",
    "\n",
    "r = requests.get(url=url)\n",
    "\n",
    "if r.status_code == 200:\n",
    "    print(\"下載成功\")\n",
    "    data = r.json()\n",
    "\n",
    "print(data)"
   ]
  },
  {
   "cell_type": "code",
   "execution_count": 3,
   "metadata": {},
   "outputs": [
    {
     "data": {
      "text/html": [
       "<div>\n",
       "<style scoped>\n",
       "    .dataframe tbody tr th:only-of-type {\n",
       "        vertical-align: middle;\n",
       "    }\n",
       "\n",
       "    .dataframe tbody tr th {\n",
       "        vertical-align: top;\n",
       "    }\n",
       "\n",
       "    .dataframe thead th {\n",
       "        text-align: right;\n",
       "    }\n",
       "</style>\n",
       "<table border=\"1\" class=\"dataframe\">\n",
       "  <thead>\n",
       "    <tr style=\"text-align: right;\">\n",
       "      <th></th>\n",
       "      <th>date</th>\n",
       "      <th>address</th>\n",
       "      <th>temperature</th>\n",
       "      <th>light</th>\n",
       "    </tr>\n",
       "  </thead>\n",
       "  <tbody>\n",
       "    <tr>\n",
       "      <th>0</th>\n",
       "      <td>2024-1-26 14:50:57</td>\n",
       "      <td>chicken_KFC</td>\n",
       "      <td>27.04440</td>\n",
       "      <td>320.0</td>\n",
       "    </tr>\n",
       "    <tr>\n",
       "      <th>1</th>\n",
       "      <td>2024-1-26 14:51:15</td>\n",
       "      <td>chicken_KFC</td>\n",
       "      <td>27.04440</td>\n",
       "      <td>288.0</td>\n",
       "    </tr>\n",
       "    <tr>\n",
       "      <th>2</th>\n",
       "      <td>2024-1-26 14:51:26</td>\n",
       "      <td>chicken_KFC</td>\n",
       "      <td>27.04440</td>\n",
       "      <td>288.0</td>\n",
       "    </tr>\n",
       "    <tr>\n",
       "      <th>3</th>\n",
       "      <td>2024-1-26 15:11:17</td>\n",
       "      <td>chicken_KFC</td>\n",
       "      <td>27.51254</td>\n",
       "      <td>272.0</td>\n",
       "    </tr>\n",
       "    <tr>\n",
       "      <th>4</th>\n",
       "      <td>2024-1-26 15:12:12</td>\n",
       "      <td>chicken_KFC</td>\n",
       "      <td>28.44883</td>\n",
       "      <td>272.0</td>\n",
       "    </tr>\n",
       "  </tbody>\n",
       "</table>\n",
       "</div>"
      ],
      "text/plain": [
       "                 date      address  temperature  light\n",
       "0  2024-1-26 14:50:57  chicken_KFC     27.04440  320.0\n",
       "1  2024-1-26 14:51:15  chicken_KFC     27.04440  288.0\n",
       "2  2024-1-26 14:51:26  chicken_KFC     27.04440  288.0\n",
       "3  2024-1-26 15:11:17  chicken_KFC     27.51254  272.0\n",
       "4  2024-1-26 15:12:12  chicken_KFC     28.44883  272.0"
      ]
     },
     "execution_count": 3,
     "metadata": {},
     "output_type": "execute_result"
    }
   ],
   "source": [
    "#2024_01_26_AM1100\n",
    "import pandas as pd\n",
    "\n",
    "pd.DataFrame(data)"
   ]
  }
 ],
 "metadata": {
  "kernelspec": {
   "display_name": ".venv",
   "language": "python",
   "name": "python3"
  },
  "language_info": {
   "codemirror_mode": {
    "name": "ipython",
    "version": 3
   },
   "file_extension": ".py",
   "mimetype": "text/x-python",
   "name": "python",
   "nbconvert_exporter": "python",
   "pygments_lexer": "ipython3",
   "version": "3.10.8"
  }
 },
 "nbformat": 4,
 "nbformat_minor": 2
}

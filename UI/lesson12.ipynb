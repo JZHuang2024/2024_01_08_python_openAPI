{
 "cells": [
  {
   "cell_type": "code",
   "execution_count": 1,
   "metadata": {},
   "outputs": [
    {
     "name": "stdout",
     "output_type": "stream",
     "text": [
      "下載成功\n",
      "[{'date': '2024-1-25 16:45:11', 'address': 'chicken_KFC', 'temperature': 28.91698, 'light': 56349.0}, {'date': '2024-1-25 16:45:18', 'address': 'chicken_KFC', 'temperature': 29.85327, 'light': 56653.0}, {'date': '2024-1-25 16:45:22', 'address': 'chicken_KFC', 'temperature': 29.38512, 'light': 56621.0}, {'date': '2024-1-26 9:26:44', 'address': 'chicken_KFC', 'temperature': 23.76739, 'light': 256.0}, {'date': '2024-1-26 9:52:3', 'address': 'chicken_KFC', 'temperature': 25.63997, 'light': 208.0}]\n"
     ]
    }
   ],
   "source": [
    "import requests\n",
    "\n",
    "url = 'https://openapi-test-ukni.onrender.com/pico_w/?count=5'\n",
    "\n",
    "r = requests.get(url=url)\n",
    "\n",
    "if r.status_code == 200:\n",
    "    print(\"下載成功\")\n",
    "    data = r.json()\n",
    "\n",
    "print(data)"
   ]
  }
 ],
 "metadata": {
  "kernelspec": {
   "display_name": ".venv",
   "language": "python",
   "name": "python3"
  },
  "language_info": {
   "codemirror_mode": {
    "name": "ipython",
    "version": 3
   },
   "file_extension": ".py",
   "mimetype": "text/x-python",
   "name": "python",
   "nbconvert_exporter": "python",
   "pygments_lexer": "ipython3",
   "version": "3.10.8"
  }
 },
 "nbformat": 4,
 "nbformat_minor": 2
}

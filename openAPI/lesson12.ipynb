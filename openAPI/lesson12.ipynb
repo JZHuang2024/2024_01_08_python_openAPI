{
 "cells": [
  {
   "cell_type": "code",
   "execution_count": 1,
   "metadata": {},
   "outputs": [],
   "source": [
    "#這個練習必須在虛擬主機下進行,因為安裝了需要的模組在這虛擬主機下openAPI 專案下. 在Git Bash終端機下(python3.10.8)下\n",
    "#       起初是在    JZ@WINDOWS-QET06QS MINGW64 ~/Documents/GitHub/2024_01_08_python_openAPI(main)下\n",
    "#       先執行指令: cd openAPI\n",
    "#       變成        JZ@WINDOWS-QET06QS MINGW64 ~/Documents/GitHub/2024_01_08_python_openAPI/openAPI (main)下\n",
    "#       指令: source .venv/scripts/activate    ➤➤➤➤進入虛擬主機 .venv  \n",
    "# \n",
    "#\n",
    "   \n",
    "import redis\n",
    "import os\n",
    "from dotenv import load_dotenv\n",
    "load_dotenv()\n",
    "redis_conn = redis.Redis.from_url(os.environ.get('REDIS_HOST_PASSWORD'))\n"
   ]
  },
  {
   "cell_type": "code",
   "execution_count": 2,
   "metadata": {},
   "outputs": [
    {
     "data": {
      "text/plain": [
       "36"
      ]
     },
     "execution_count": 2,
     "metadata": {},
     "output_type": "execute_result"
    }
   ],
   "source": [
    "redis_conn.incr('test:increment',1)"
   ]
  }
 ],
 "metadata": {
  "kernelspec": {
   "display_name": ".venv",
   "language": "python",
   "name": "python3"
  },
  "language_info": {
   "codemirror_mode": {
    "name": "ipython",
    "version": 3
   },
   "file_extension": ".py",
   "mimetype": "text/x-python",
   "name": "python",
   "nbconvert_exporter": "python",
   "pygments_lexer": "ipython3",
   "version": "3.10.8"
  }
 },
 "nbformat": 4,
 "nbformat_minor": 2
}

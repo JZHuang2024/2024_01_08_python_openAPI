{
 "cells": [
  {
   "cell_type": "code",
   "execution_count": 2,
   "metadata": {},
   "outputs": [
    {
     "ename": "ModuleNotFoundError",
     "evalue": "No module named 'dotenv'",
     "output_type": "error",
     "traceback": [
      "\u001b[1;31m---------------------------------------------------------------------------\u001b[0m",
      "\u001b[1;31mModuleNotFoundError\u001b[0m                       Traceback (most recent call last)",
      "Cell \u001b[1;32mIn[2], line 11\u001b[0m\n\u001b[0;32m      9\u001b[0m \u001b[38;5;28;01mimport\u001b[39;00m \u001b[38;5;21;01mredis\u001b[39;00m\n\u001b[0;32m     10\u001b[0m \u001b[38;5;28;01mimport\u001b[39;00m \u001b[38;5;21;01mos\u001b[39;00m\n\u001b[1;32m---> 11\u001b[0m \u001b[38;5;28;01mfrom\u001b[39;00m \u001b[38;5;21;01mdotenv\u001b[39;00m \u001b[38;5;28;01mimport\u001b[39;00m load_dotenv\n\u001b[0;32m     12\u001b[0m load_dotenv()\n\u001b[0;32m     13\u001b[0m redis_conn \u001b[38;5;241m=\u001b[39m redis\u001b[38;5;241m.\u001b[39mRedis\u001b[38;5;241m.\u001b[39mfrom_url(os\u001b[38;5;241m.\u001b[39menviron\u001b[38;5;241m.\u001b[39mget(\u001b[38;5;124m'\u001b[39m\u001b[38;5;124mREDIS_HOST_PASSWORD\u001b[39m\u001b[38;5;124m'\u001b[39m))\n",
      "\u001b[1;31mModuleNotFoundError\u001b[0m: No module named 'dotenv'"
     ]
    }
   ],
   "source": [
    "#這個練習必須在虛擬主機下進行,因為安裝了需要的模組在這虛擬主機下openAPI 專案下. 在Git Bash終端機下(python3.10.8)下\n",
    "#       起初是在    JZ@WINDOWS-QET06QS MINGW64 ~/Documents/GitHub/2024_01_08_python_openAPI(main)下\n",
    "#       先執行指令: cd openAPI\n",
    "#       變成        JZ@WINDOWS-QET06QS MINGW64 ~/Documents/GitHub/2024_01_08_python_openAPI/openAPI (main)下\n",
    "#       指令: source .venv/scripts/activate    ➤➤➤➤進入虛擬主機 .venv  \n",
    "#       \n",
    "#\n",
    "#\n",
    "import redis\n",
    "import os\n",
    "from dotenv import load_dotenv\n",
    "load_dotenv()\n",
    "redis_conn = redis.Redis.from_url(os.environ.get('REDIS_HOST_PASSWORD'))"
   ]
  },
  {
   "cell_type": "code",
   "execution_count": 3,
   "metadata": {},
   "outputs": [
    {
     "ename": "NameError",
     "evalue": "name 'redis_conn' is not defined",
     "output_type": "error",
     "traceback": [
      "\u001b[1;31m---------------------------------------------------------------------------\u001b[0m",
      "\u001b[1;31mNameError\u001b[0m                                 Traceback (most recent call last)",
      "Cell \u001b[1;32mIn[3], line 1\u001b[0m\n\u001b[1;32m----> 1\u001b[0m \u001b[43mredis_conn\u001b[49m\u001b[38;5;241m.\u001b[39mincr(\u001b[38;5;124m'\u001b[39m\u001b[38;5;124mtest:increment\u001b[39m\u001b[38;5;124m'\u001b[39m,\u001b[38;5;241m1\u001b[39m)\n",
      "\u001b[1;31mNameError\u001b[0m: name 'redis_conn' is not defined"
     ]
    }
   ],
   "source": [
    "redis_conn.incr('test:increment',1)"
   ]
  }
 ],
 "metadata": {
  "kernelspec": {
   "display_name": ".venv",
   "language": "python",
   "name": "python3"
  },
  "language_info": {
   "codemirror_mode": {
    "name": "ipython",
    "version": 3
   },
   "file_extension": ".py",
   "mimetype": "text/x-python",
   "name": "python",
   "nbconvert_exporter": "python",
   "pygments_lexer": "ipython3",
   "version": "3.10.8"
  }
 },
 "nbformat": 4,
 "nbformat_minor": 2
}
